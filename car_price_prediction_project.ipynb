{
 "cells": [
  {
   "cell_type": "markdown",
   "metadata": {},
   "source": [
    "### Importing required libraries"
   ]
  },
  {
   "cell_type": "code",
   "execution_count": 1,
   "metadata": {},
   "outputs": [],
   "source": [
    "import numpy as np\n",
    "import pandas as pd\n",
    "import sklearn\n",
    "import seaborn as sns\n",
    "import matplotlib.pyplot as plt\n",
    "import warnings\n",
    "warnings.filterwarnings('ignore')"
   ]
  },
  {
   "cell_type": "code",
   "execution_count": 2,
   "metadata": {},
   "outputs": [],
   "source": [
    "pd.set_option('display.max_columns', None)"
   ]
  },
  {
   "cell_type": "markdown",
   "metadata": {},
   "source": [
    "### Loading the dataset"
   ]
  },
  {
   "cell_type": "code",
   "execution_count": 3,
   "metadata": {},
   "outputs": [],
   "source": [
    "df=pd.read_excel(\"C:\\\\Users\\\\Lenovo\\\\Downloads\\car_price_project\\df_car_data_new.xlsx\")"
   ]
  },
  {
   "cell_type": "markdown",
   "metadata": {},
   "source": [
    "### Exploratory Data Analysis"
   ]
  },
  {
   "cell_type": "code",
   "execution_count": 4,
   "metadata": {},
   "outputs": [
    {
     "data": {
      "text/html": [
       "<div>\n",
       "<style scoped>\n",
       "    .dataframe tbody tr th:only-of-type {\n",
       "        vertical-align: middle;\n",
       "    }\n",
       "\n",
       "    .dataframe tbody tr th {\n",
       "        vertical-align: top;\n",
       "    }\n",
       "\n",
       "    .dataframe thead th {\n",
       "        text-align: right;\n",
       "    }\n",
       "</style>\n",
       "<table border=\"1\" class=\"dataframe\">\n",
       "  <thead>\n",
       "    <tr style=\"text-align: right;\">\n",
       "      <th></th>\n",
       "      <th>Unnamed: 0</th>\n",
       "      <th>Name</th>\n",
       "      <th>Price(in Rs.)</th>\n",
       "      <th>Year</th>\n",
       "      <th>Fuel</th>\n",
       "      <th>KMs Driven</th>\n",
       "      <th>Engine Displacement</th>\n",
       "      <th>No Of Owners</th>\n",
       "      <th>RTO</th>\n",
       "      <th>Transmission</th>\n",
       "      <th>Insurance Type</th>\n",
       "      <th>Mileage</th>\n",
       "      <th>Max Power</th>\n",
       "      <th>Torque</th>\n",
       "    </tr>\n",
       "  </thead>\n",
       "  <tbody>\n",
       "    <tr>\n",
       "      <th>0</th>\n",
       "      <td>0</td>\n",
       "      <td>2019 Maruti Swift Dzire</td>\n",
       "      <td>665000</td>\n",
       "      <td>2019</td>\n",
       "      <td>Petrol</td>\n",
       "      <td>9718</td>\n",
       "      <td>1197 cc</td>\n",
       "      <td>1st Owner</td>\n",
       "      <td>GJ09</td>\n",
       "      <td>Manual</td>\n",
       "      <td>Third Party insurance</td>\n",
       "      <td>21.21 kmpl</td>\n",
       "      <td>81.80bhp</td>\n",
       "      <td>113Nm</td>\n",
       "    </tr>\n",
       "    <tr>\n",
       "      <th>1</th>\n",
       "      <td>1</td>\n",
       "      <td>2011 Honda City</td>\n",
       "      <td>399500</td>\n",
       "      <td>2011</td>\n",
       "      <td>Petrol</td>\n",
       "      <td>38647</td>\n",
       "      <td>1497 cc</td>\n",
       "      <td>1st Owner</td>\n",
       "      <td>GJ01</td>\n",
       "      <td>Manual</td>\n",
       "      <td>Third Party insurance</td>\n",
       "      <td>17 kmpl</td>\n",
       "      <td>118PS at 6,600 rpm</td>\n",
       "      <td>146Nm at 4800 rpm</td>\n",
       "    </tr>\n",
       "    <tr>\n",
       "      <th>2</th>\n",
       "      <td>2</td>\n",
       "      <td>2012 Maruti Alto K10</td>\n",
       "      <td>177500</td>\n",
       "      <td>2012</td>\n",
       "      <td>Petrol</td>\n",
       "      <td>89579</td>\n",
       "      <td>998 cc</td>\n",
       "      <td>1st Owner</td>\n",
       "      <td>GJ01</td>\n",
       "      <td>Manual</td>\n",
       "      <td>Third Party insurance</td>\n",
       "      <td>20.92 kmpl</td>\n",
       "      <td>67.1bhp</td>\n",
       "      <td>90Nm</td>\n",
       "    </tr>\n",
       "    <tr>\n",
       "      <th>3</th>\n",
       "      <td>3</td>\n",
       "      <td>2016 Maruti Wagon R</td>\n",
       "      <td>360000</td>\n",
       "      <td>2016</td>\n",
       "      <td>Petrol</td>\n",
       "      <td>81674</td>\n",
       "      <td>998 cc</td>\n",
       "      <td>1st Owner</td>\n",
       "      <td>GJ18</td>\n",
       "      <td>Manual</td>\n",
       "      <td>Third Party insurance</td>\n",
       "      <td>21.79 kmpl</td>\n",
       "      <td>67.05bhp</td>\n",
       "      <td>90Nm</td>\n",
       "    </tr>\n",
       "    <tr>\n",
       "      <th>4</th>\n",
       "      <td>4</td>\n",
       "      <td>2019 Maruti Eeco</td>\n",
       "      <td>457000</td>\n",
       "      <td>2019</td>\n",
       "      <td>Petrol</td>\n",
       "      <td>14161</td>\n",
       "      <td>1196 cc</td>\n",
       "      <td>1st Owner</td>\n",
       "      <td>GJ38</td>\n",
       "      <td>Manual</td>\n",
       "      <td>Third Party insurance</td>\n",
       "      <td>15.37 kmpl</td>\n",
       "      <td>73bhp</td>\n",
       "      <td>101Nm</td>\n",
       "    </tr>\n",
       "  </tbody>\n",
       "</table>\n",
       "</div>"
      ],
      "text/plain": [
       "   Unnamed: 0                     Name Price(in Rs.)  Year    Fuel KMs Driven  \\\n",
       "0           0  2019 Maruti Swift Dzire        665000  2019  Petrol      9718    \n",
       "1           1          2011 Honda City        399500  2011  Petrol     38647    \n",
       "2           2     2012 Maruti Alto K10        177500  2012  Petrol     89579    \n",
       "3           3      2016 Maruti Wagon R        360000  2016  Petrol     81674    \n",
       "4           4         2019 Maruti Eeco        457000  2019  Petrol     14161    \n",
       "\n",
       "  Engine Displacement No Of Owners   RTO Transmission         Insurance Type  \\\n",
       "0             1197 cc    1st Owner  GJ09       Manual  Third Party insurance   \n",
       "1             1497 cc    1st Owner  GJ01       Manual  Third Party insurance   \n",
       "2              998 cc    1st Owner  GJ01       Manual  Third Party insurance   \n",
       "3              998 cc    1st Owner  GJ18       Manual  Third Party insurance   \n",
       "4             1196 cc    1st Owner  GJ38       Manual  Third Party insurance   \n",
       "\n",
       "      Mileage           Max Power             Torque  \n",
       "0  21.21 kmpl            81.80bhp              113Nm  \n",
       "1     17 kmpl  118PS at 6,600 rpm  146Nm at 4800 rpm  \n",
       "2  20.92 kmpl             67.1bhp               90Nm  \n",
       "3  21.79 kmpl            67.05bhp               90Nm  \n",
       "4  15.37 kmpl               73bhp              101Nm  "
      ]
     },
     "execution_count": 4,
     "metadata": {},
     "output_type": "execute_result"
    }
   ],
   "source": [
    "df.head()"
   ]
  },
  {
   "cell_type": "code",
   "execution_count": 5,
   "metadata": {},
   "outputs": [
    {
     "data": {
      "text/plain": [
       "(7000, 14)"
      ]
     },
     "execution_count": 5,
     "metadata": {},
     "output_type": "execute_result"
    }
   ],
   "source": [
    "df.shape"
   ]
  },
  {
   "cell_type": "code",
   "execution_count": 6,
   "metadata": {},
   "outputs": [
    {
     "data": {
      "text/plain": [
       "Index(['Unnamed: 0', 'Name', 'Price(in Rs.)', 'Year', 'Fuel', 'KMs Driven',\n",
       "       'Engine Displacement', 'No Of Owners', 'RTO', 'Transmission',\n",
       "       'Insurance Type', 'Mileage', 'Max Power', 'Torque'],\n",
       "      dtype='object')"
      ]
     },
     "execution_count": 6,
     "metadata": {},
     "output_type": "execute_result"
    }
   ],
   "source": [
    "df.columns"
   ]
  },
  {
   "cell_type": "markdown",
   "metadata": {},
   "source": [
    "**cleaning the dataset and data preprocessing**"
   ]
  },
  {
   "cell_type": "code",
   "execution_count": 7,
   "metadata": {},
   "outputs": [],
   "source": [
    "# removing 'Unnamed: 0' column\n",
    "df.drop([\"Unnamed: 0\"], axis = 1, inplace = True)"
   ]
  },
  {
   "cell_type": "code",
   "execution_count": 8,
   "metadata": {},
   "outputs": [],
   "source": [
    "for i in range(0,7000):\n",
    "    df[\"Name\"][i] =df[\"Name\"][i][4:]"
   ]
  },
  {
   "cell_type": "markdown",
   "metadata": {},
   "source": [
    "--->KMs Driven"
   ]
  },
  {
   "cell_type": "code",
   "execution_count": 9,
   "metadata": {},
   "outputs": [],
   "source": [
    "for i in range(2000,4000):\n",
    "    df[\"KMs Driven\"][i] =df[\"KMs Driven\"][i].replace(\",\", \"\").replace(\" \", \"\")"
   ]
  },
  {
   "cell_type": "code",
   "execution_count": 10,
   "metadata": {},
   "outputs": [],
   "source": [
    "for i in range(0,7000):\n",
    "    df[\"KMs Driven\"][i] =df[\"KMs Driven\"][i].replace(\"-\", \"\")"
   ]
  },
  {
   "cell_type": "code",
   "execution_count": 11,
   "metadata": {},
   "outputs": [],
   "source": [
    "df[\"KMs Driven\"] =  pd.to_numeric(df[\"KMs Driven\"])"
   ]
  },
  {
   "cell_type": "markdown",
   "metadata": {},
   "source": [
    "--->Price(in Rs.)"
   ]
  },
  {
   "cell_type": "code",
   "execution_count": 12,
   "metadata": {},
   "outputs": [],
   "source": [
    "for i in range(0,7000):\n",
    "    df[\"Price(in Rs.)\"][i] =df[\"Price(in Rs.)\"][i].replace(\",\", \"\").replace(\"*\", \"\").replace(\"-\", \"\").replace(' Cr', '00000')"
   ]
  },
  {
   "cell_type": "code",
   "execution_count": 13,
   "metadata": {
    "scrolled": false
   },
   "outputs": [],
   "source": [
    "df[\"Price(in Rs.)\"] =  pd.to_numeric(df[\"Price(in Rs.)\"])"
   ]
  },
  {
   "cell_type": "markdown",
   "metadata": {},
   "source": [
    "--->Engine Displacement"
   ]
  },
  {
   "cell_type": "code",
   "execution_count": 14,
   "metadata": {},
   "outputs": [],
   "source": [
    "for i in range(0,7000):\n",
    "    df[\"Engine Displacement\"][i] =df[\"Engine Displacement\"][i].replace(\"cc\", \"\").replace(\"CC\", \"\").replace(\" cc\", \"\").replace(\"17 x 7.5J\", '127.5').replace('Grey', \"\").replace('Black', \"\").replace(\"-\", \"\").replace('Blue', \"\").replace('Silver', '').replace('White', '')"
   ]
  },
  {
   "cell_type": "code",
   "execution_count": 15,
   "metadata": {},
   "outputs": [],
   "source": [
    "df[\"Engine Displacement\"] =  pd.to_numeric(df[\"Engine Displacement\"]).astype(float)"
   ]
  },
  {
   "cell_type": "markdown",
   "metadata": {},
   "source": [
    "---> Mileage"
   ]
  },
  {
   "cell_type": "code",
   "execution_count": 16,
   "metadata": {},
   "outputs": [],
   "source": [
    "for i in range(0,7000):\n",
    "    df[\"Mileage\"][i] =df[\"Mileage\"][i].replace(\"kmpl\", \"\").replace(\"-\", \"\").replace(\" km/kg\", \"\").replace('km/hr', \"\").replace(\"CC\", \"\")"
   ]
  },
  {
   "cell_type": "code",
   "execution_count": 17,
   "metadata": {},
   "outputs": [],
   "source": [
    "df[\"Mileage\"] =  pd.to_numeric(df[\"Mileage\"]).astype(float)"
   ]
  },
  {
   "cell_type": "markdown",
   "metadata": {},
   "source": [
    "---> Max Power"
   ]
  },
  {
   "cell_type": "code",
   "execution_count": 18,
   "metadata": {},
   "outputs": [],
   "source": [
    "for i in range(0,7000):\n",
    "    df[\"Max Power\"][i] =df[\"Max Power\"][i].replace(\"-\", \"\").replace(\"bhp\", \"\").replace(\"PS\", \".00\").replace(\"nul\", \"\").replace(\"p\", \"\").replace('Grey', \"\").replace('Black', \"\").replace('Blue', \"\").replace('Silver', '').replace('White', '').replace('l ', \"\")"
   ]
  },
  {
   "cell_type": "code",
   "execution_count": 19,
   "metadata": {},
   "outputs": [],
   "source": [
    "for i in range(0,7000):\n",
    "    df[\"Max Power\"][i] =df[\"Max Power\"][i][:3]"
   ]
  },
  {
   "cell_type": "code",
   "execution_count": 20,
   "metadata": {},
   "outputs": [],
   "source": [
    "df[\"Max Power\"][884] =df[\"Max Power\"][884].replace('s', \"\")\n",
    "df[\"Max Power\"][933] =df[\"Max Power\"][933].replace('s', \"\")\n",
    "df[\"Max Power\"][1951] =df[\"Max Power\"][1951].replace('Gre', \"\")"
   ]
  },
  {
   "cell_type": "code",
   "execution_count": 21,
   "metadata": {},
   "outputs": [],
   "source": [
    "df[\"Max Power\"] =  pd.to_numeric(df[\"Max Power\"]).astype(float)"
   ]
  },
  {
   "cell_type": "markdown",
   "metadata": {},
   "source": [
    "--->Torque"
   ]
  },
  {
   "cell_type": "code",
   "execution_count": 22,
   "metadata": {},
   "outputs": [],
   "source": [
    "for i in range(0,7000):\n",
    "    df[\"Torque\"][i] = df[\"Torque\"][i].replace(\"Nm\", \" \").replace(\"nm\", \" \").replace('Grey', \"\").replace('Black', \"\").replace('Blue', \"\").replace('Silver', '').replace('White', '').replace('-', \"\").replace('@', \"\").replace('Gold', \"\").replace('en', \"\")"
   ]
  },
  {
   "cell_type": "code",
   "execution_count": 23,
   "metadata": {},
   "outputs": [],
   "source": [
    "for i in range(0,7000):\n",
    "    df[\"Torque\"][i] =df[\"Torque\"][i][:3]"
   ]
  },
  {
   "cell_type": "code",
   "execution_count": 24,
   "metadata": {},
   "outputs": [],
   "source": [
    "df[\"Torque\"] =  pd.to_numeric(df[\"Torque\"]).astype(float)"
   ]
  },
  {
   "cell_type": "markdown",
   "metadata": {},
   "source": [
    "<br><br><br>"
   ]
  },
  {
   "cell_type": "code",
   "execution_count": 25,
   "metadata": {
    "scrolled": true
   },
   "outputs": [
    {
     "name": "stdout",
     "output_type": "stream",
     "text": [
      "<class 'pandas.core.frame.DataFrame'>\n",
      "RangeIndex: 7000 entries, 0 to 6999\n",
      "Data columns (total 13 columns):\n",
      " #   Column               Non-Null Count  Dtype  \n",
      "---  ------               --------------  -----  \n",
      " 0   Name                 7000 non-null   object \n",
      " 1   Price(in Rs.)        6918 non-null   float64\n",
      " 2   Year                 7000 non-null   object \n",
      " 3   Fuel                 7000 non-null   object \n",
      " 4   KMs Driven           6918 non-null   float64\n",
      " 5   Engine Displacement  6910 non-null   float64\n",
      " 6   No Of Owners         7000 non-null   object \n",
      " 7   RTO                  6781 non-null   object \n",
      " 8   Transmission         7000 non-null   object \n",
      " 9   Insurance Type       6994 non-null   object \n",
      " 10  Mileage              6918 non-null   float64\n",
      " 11  Max Power            6846 non-null   float64\n",
      " 12  Torque               6903 non-null   float64\n",
      "dtypes: float64(6), object(7)\n",
      "memory usage: 711.1+ KB\n"
     ]
    }
   ],
   "source": [
    "df.info()"
   ]
  },
  {
   "cell_type": "code",
   "execution_count": 26,
   "metadata": {},
   "outputs": [
    {
     "data": {
      "text/plain": [
       "Name                     0\n",
       "Price(in Rs.)           82\n",
       "Year                     0\n",
       "Fuel                     0\n",
       "KMs Driven              82\n",
       "Engine Displacement     90\n",
       "No Of Owners             0\n",
       "RTO                    219\n",
       "Transmission             0\n",
       "Insurance Type           6\n",
       "Mileage                 82\n",
       "Max Power              154\n",
       "Torque                  97\n",
       "dtype: int64"
      ]
     },
     "execution_count": 26,
     "metadata": {},
     "output_type": "execute_result"
    }
   ],
   "source": [
    "#checking null values\n",
    "df.isnull().sum()"
   ]
  },
  {
   "cell_type": "code",
   "execution_count": 27,
   "metadata": {},
   "outputs": [],
   "source": [
    "#dropping null values in Insurance Type since there are only 6 null values\n",
    "df = df[df['Insurance Type'].notna()]"
   ]
  },
  {
   "cell_type": "code",
   "execution_count": 28,
   "metadata": {},
   "outputs": [],
   "source": [
    "df['Price(in Rs.)'].fillna(df['Price(in Rs.)'].mean(), inplace=True)\n",
    "df['KMs Driven'].fillna(df['KMs Driven'].mean(), inplace=True)\n",
    "df['Engine Displacement'].fillna(df['Engine Displacement'].mean(), inplace=True)\n",
    "df['Mileage'].fillna(df['Mileage'].mean(), inplace=True)\n",
    "df['Max Power'].fillna(df['Max Power'].mean(), inplace=True)\n",
    "df['Torque'].fillna(df['Torque'].mean(), inplace=True)"
   ]
  },
  {
   "cell_type": "code",
   "execution_count": 29,
   "metadata": {},
   "outputs": [],
   "source": [
    "df['RTO'].fillna(' NA', inplace=True)"
   ]
  },
  {
   "cell_type": "code",
   "execution_count": 30,
   "metadata": {},
   "outputs": [
    {
     "data": {
      "text/plain": [
       "Name                   0\n",
       "Price(in Rs.)          0\n",
       "Year                   0\n",
       "Fuel                   0\n",
       "KMs Driven             0\n",
       "Engine Displacement    0\n",
       "No Of Owners           0\n",
       "RTO                    0\n",
       "Transmission           0\n",
       "Insurance Type         0\n",
       "Mileage                0\n",
       "Max Power              0\n",
       "Torque                 0\n",
       "dtype: int64"
      ]
     },
     "execution_count": 30,
     "metadata": {},
     "output_type": "execute_result"
    }
   ],
   "source": [
    "#checking null values after replacing null values\n",
    "df.isnull().sum()"
   ]
  },
  {
   "cell_type": "markdown",
   "metadata": {},
   "source": [
    "We can see that all the null values are removed now"
   ]
  },
  {
   "cell_type": "code",
   "execution_count": 31,
   "metadata": {},
   "outputs": [
    {
     "data": {
      "text/plain": [
       "(6994, 13)"
      ]
     },
     "execution_count": 31,
     "metadata": {},
     "output_type": "execute_result"
    }
   ],
   "source": [
    "# shape of the data after removing null values\n",
    "df.shape"
   ]
  },
  {
   "cell_type": "markdown",
   "metadata": {},
   "source": [
    "### Univariate Analysis"
   ]
  },
  {
   "cell_type": "code",
   "execution_count": 32,
   "metadata": {},
   "outputs": [],
   "source": [
    "df= df.rename(columns={\"Price(in Rs.)\":\"Price\"})"
   ]
  },
  {
   "cell_type": "code",
   "execution_count": 33,
   "metadata": {},
   "outputs": [],
   "source": [
    "pd.set_option('display.float_format', lambda x: '%.5f' % x)"
   ]
  },
  {
   "cell_type": "code",
   "execution_count": 34,
   "metadata": {},
   "outputs": [
    {
     "data": {
      "text/plain": [
       "count       6994.00000\n",
       "mean     3152068.49552\n",
       "std      5272558.90385\n",
       "min        10000.00000\n",
       "25%       430000.00000\n",
       "50%       884000.00000\n",
       "75%      4250000.00000\n",
       "max     88150000.00000\n",
       "Name: Price, dtype: float64"
      ]
     },
     "execution_count": 34,
     "metadata": {},
     "output_type": "execute_result"
    }
   ],
   "source": [
    "# Analysing target variable\n",
    "df.Price.describe()"
   ]
  },
  {
   "cell_type": "code",
   "execution_count": 35,
   "metadata": {},
   "outputs": [
    {
     "data": {
      "text/plain": [
       "<AxesSubplot:xlabel='Price', ylabel='Density'>"
      ]
     },
     "execution_count": 35,
     "metadata": {},
     "output_type": "execute_result"
    },
    {
     "data": {
      "image/png": "[encoded data removed]",
      "text/plain": [
       "<Figure size 432x288 with 1 Axes>"
      ]
     },
     "metadata": {
      "needs_background": "light"
     },
     "output_type": "display_data"
    }
   ],
   "source": [
    "sns.distplot(df['Price'])"
   ]
  },
  {
   "cell_type": "code",
   "execution_count": 36,
   "metadata": {},
   "outputs": [
    {
     "data": {
      "text/plain": [
       "<AxesSubplot:>"
      ]
     },
     "execution_count": 36,
     "metadata": {},
     "output_type": "execute_result"
    },
    {
     "data": {
      "image/png": "[encoded data removed]",
      "text/plain": [
       "<Figure size 720x432 with 1 Axes>"
      ]
     },
     "metadata": {
      "needs_background": "light"
     },
     "output_type": "display_data"
    }
   ],
   "source": [
    "plt.subplots(figsize=(10, 6))\n",
    "df['Price'].value_counts().plot.bar(cmap='Set3')"
   ]
  },
  {
   "cell_type": "code",
   "execution_count": 37,
   "metadata": {},
   "outputs": [],
   "source": [
    "df['Price_bin'] = 0\n",
    "df.loc[df['Price']<1000000,'Price_bin'] = 0\n",
    "df.loc[(df['Price']>1000000) & (df['Price']<=2000000),'Price_bin'] =1\n",
    "df.loc[(df['Price']>2000000) & (df['Price']<=3000000),'Price_bin'] =2\n",
    "df.loc[(df['Price']>3000000) & (df['Price']<=4000000),'Price_bin'] =3\n",
    "df.loc[(df['Price']>4000000) & (df['Price']<=5000000),'Price_bin'] =4\n",
    "df.loc[(df['Price']>5000000) & (df['Price']<=6000000),'Price_bin'] =5\n",
    "df.loc[(df['Price']>6000000) & (df['Price']<=7000000),'Price_bin'] =6\n",
    "df.loc[(df['Price']>7000000) & (df['Price']<=8000000),'Price_bin'] =7\n",
    "df.loc[(df['Price']>8000000) & (df['Price']<=9000000),'Price_bin'] =8\n",
    "df.loc[(df['Price']>9000000) & (df['Price']<=10000000),'Price_bin'] =9\n",
    "df.loc[df['Price']>10000000,'Price_bin'] =10"
   ]
  },
  {
   "cell_type": "code",
   "execution_count": 38,
   "metadata": {},
   "outputs": [
    {
     "data": {
      "image/png": "[encoded data removed]",
      "text/plain": [
       "<Figure size 432x288 with 1 Axes>"
      ]
     },
     "metadata": {
      "needs_background": "light"
     },
     "output_type": "display_data"
    }
   ],
   "source": [
    "sns.countplot(x ='Price_bin', data = df)\n",
    "plt.show()"
   ]
  },
  {
   "cell_type": "code",
   "execution_count": 39,
   "metadata": {},
   "outputs": [
    {
     "data": {
      "text/plain": [
       "array([' Maruti Swift Dzire', ' Honda City', ' Maruti Alto K10',\n",
       "       ' Maruti Wagon R', ' Maruti Eeco', ' Maruti Eeco', ' Maruti Eeco',\n",
       "       ' Maruti Eeco', ' Maruti Swift Dzire', ' Maruti Swift Dzire'],\n",
       "      dtype=object)"
      ]
     },
     "execution_count": 39,
     "metadata": {},
     "output_type": "execute_result"
    }
   ],
   "source": [
    "df.Name.values[0:10]"
   ]
  },
  {
   "cell_type": "code",
   "execution_count": 40,
   "metadata": {},
   "outputs": [],
   "source": [
    "# It is observed that Car Name consists of two parts 'Car company' + ' ' + 'Car Model'\n",
    "# Let's split out car model to a new column."
   ]
  },
  {
   "cell_type": "code",
   "execution_count": 41,
   "metadata": {},
   "outputs": [],
   "source": [
    "df['Brand_name'] = df.Name.str.split(' ').str.get(1).str.upper()"
   ]
  },
  {
   "cell_type": "code",
   "execution_count": 42,
   "metadata": {},
   "outputs": [
    {
     "data": {
      "text/plain": [
       "242"
      ]
     },
     "execution_count": 42,
     "metadata": {},
     "output_type": "execute_result"
    }
   ],
   "source": [
    "len(set(df.Brand_name.values))"
   ]
  },
  {
   "cell_type": "code",
   "execution_count": 43,
   "metadata": {},
   "outputs": [
    {
     "data": {
      "image/png": "[encoded data removed]",
      "text/plain": [
       "<Figure size 1800x720 with 1 Axes>"
      ]
     },
     "metadata": {
      "needs_background": "light"
     },
     "output_type": "display_data"
    },
    {
     "data": {
      "text/plain": [
       "<Figure size 432x288 with 0 Axes>"
      ]
     },
     "metadata": {},
     "output_type": "display_data"
    }
   ],
   "source": [
    "# Let's see companies and their no of models.\n",
    "fig, ax = plt.subplots(figsize = (25,10))\n",
    "plt1 = sns.countplot(df['Brand_name'], order=pd.value_counts(df['Brand_name']).index,)\n",
    "plt1.set(xlabel = 'Brand', ylabel= 'Count of Cars')\n",
    "plt.show()\n",
    "plt.tight_layout()"
   ]
  },
  {
   "cell_type": "code",
   "execution_count": 44,
   "metadata": {},
   "outputs": [],
   "source": [
    "## encoding data"
   ]
  },
  {
   "cell_type": "code",
   "execution_count": 45,
   "metadata": {},
   "outputs": [],
   "source": [
    "df.replace({\"1st Owner\": 1, \"1st \": 1, 'First ':1, 'First Owner': 1, \n",
    "            \"Second Owner\": 2, \"2nd \": 2, 'Second ':2, '2nd Owner':2,\n",
    "            \"Third Owner\": 3, '3rd Owner':3, '3rd ':3, 'Third ':3,\n",
    "           'Fourth & Above Owner':4, 'Fourth & Above ': 4, '4th ': 4, 'Test Drive Car':0, '-':0}, inplace = True)"
   ]
  },
  {
   "cell_type": "code",
   "execution_count": 46,
   "metadata": {},
   "outputs": [],
   "source": [
    "df.replace({\"Petrol\": 1, \"Diesel\": 2, 'CNG':3, 'LPG': 4, \n",
    "            \"Electric\": 5}, inplace = True)"
   ]
  },
  {
   "cell_type": "code",
   "execution_count": 47,
   "metadata": {},
   "outputs": [],
   "source": [
    "df.replace({\"Available\": 1, 'Insurance': 1, \"Manual\": 2, 'Comprehensive':4, 'Corporate': 5, \n",
    "            \"Third Party insurance\": 3, 'Third Party':3, 'Automatic':6, 'Individual': 7,\n",
    "            'No Insurance':0, 'Not Available':0,'No insurance' : 0}, inplace = True)"
   ]
  },
  {
   "cell_type": "code",
   "execution_count": 48,
   "metadata": {},
   "outputs": [],
   "source": [
    "# As RTO is Nominal Categorical data we will perform OneHotEncoding\n",
    "\n",
    "rto = df[[\"RTO\"]]\n",
    "\n",
    "rto = pd.get_dummies(rto, drop_first= True)"
   ]
  },
  {
   "cell_type": "code",
   "execution_count": 49,
   "metadata": {},
   "outputs": [],
   "source": [
    "# As Transmission is Nominal Categorical data we will perform OneHotEncoding\n",
    "\n",
    "transmission = df[[\"Transmission\"]]\n",
    "\n",
    "transmission = pd.get_dummies(transmission, drop_first= True)"
   ]
  },
  {
   "cell_type": "code",
   "execution_count": 50,
   "metadata": {},
   "outputs": [
    {
     "data": {
      "image/png": "[encoded data removed]",
      "text/plain": [
       "<Figure size 1440x576 with 2 Axes>"
      ]
     },
     "metadata": {
      "needs_background": "light"
     },
     "output_type": "display_data"
    }
   ],
   "source": [
    "# heat map\n",
    "plt.figure(figsize=(20,8))\n",
    "sns.heatmap(df.corr(),linewidths=.1,cmap=\"ocean_r\", annot=True)\n",
    "plt.yticks(rotation=0);"
   ]
  },
  {
   "cell_type": "code",
   "execution_count": 51,
   "metadata": {},
   "outputs": [
    {
     "data": {
      "text/html": [
       "<div>\n",
       "<style scoped>\n",
       "    .dataframe tbody tr th:only-of-type {\n",
       "        vertical-align: middle;\n",
       "    }\n",
       "\n",
       "    .dataframe tbody tr th {\n",
       "        vertical-align: top;\n",
       "    }\n",
       "\n",
       "    .dataframe thead th {\n",
       "        text-align: right;\n",
       "    }\n",
       "</style>\n",
       "<table border=\"1\" class=\"dataframe\">\n",
       "  <thead>\n",
       "    <tr style=\"text-align: right;\">\n",
       "      <th></th>\n",
       "      <th>Price</th>\n",
       "      <th>Fuel</th>\n",
       "      <th>KMs Driven</th>\n",
       "      <th>Engine Displacement</th>\n",
       "      <th>No Of Owners</th>\n",
       "      <th>Insurance Type</th>\n",
       "      <th>Mileage</th>\n",
       "      <th>Max Power</th>\n",
       "      <th>Torque</th>\n",
       "      <th>Price_bin</th>\n",
       "    </tr>\n",
       "  </thead>\n",
       "  <tbody>\n",
       "    <tr>\n",
       "      <th>count</th>\n",
       "      <td>6994.00000</td>\n",
       "      <td>6994.00000</td>\n",
       "      <td>6994.00000</td>\n",
       "      <td>6994.00000</td>\n",
       "      <td>6994.00000</td>\n",
       "      <td>6994.00000</td>\n",
       "      <td>6994.00000</td>\n",
       "      <td>6994.00000</td>\n",
       "      <td>6994.00000</td>\n",
       "      <td>6994.00000</td>\n",
       "    </tr>\n",
       "    <tr>\n",
       "      <th>mean</th>\n",
       "      <td>3152068.49552</td>\n",
       "      <td>1.47212</td>\n",
       "      <td>58970.45356</td>\n",
       "      <td>1480.27817</td>\n",
       "      <td>1.22848</td>\n",
       "      <td>2.31327</td>\n",
       "      <td>19.63011</td>\n",
       "      <td>102.38699</td>\n",
       "      <td>183.90980</td>\n",
       "      <td>2.19831</td>\n",
       "    </tr>\n",
       "    <tr>\n",
       "      <th>std</th>\n",
       "      <td>5272558.90385</td>\n",
       "      <td>0.55281</td>\n",
       "      <td>38990.16423</td>\n",
       "      <td>534.03390</td>\n",
       "      <td>0.51280</td>\n",
       "      <td>1.78409</td>\n",
       "      <td>28.71714</td>\n",
       "      <td>46.30202</td>\n",
       "      <td>116.03524</td>\n",
       "      <td>3.06747</td>\n",
       "    </tr>\n",
       "    <tr>\n",
       "      <th>min</th>\n",
       "      <td>10000.00000</td>\n",
       "      <td>0.00000</td>\n",
       "      <td>472.00000</td>\n",
       "      <td>5.00000</td>\n",
       "      <td>0.00000</td>\n",
       "      <td>0.00000</td>\n",
       "      <td>0.00000</td>\n",
       "      <td>5.00000</td>\n",
       "      <td>4.80000</td>\n",
       "      <td>0.00000</td>\n",
       "    </tr>\n",
       "    <tr>\n",
       "      <th>25%</th>\n",
       "      <td>430000.00000</td>\n",
       "      <td>1.00000</td>\n",
       "      <td>34000.00000</td>\n",
       "      <td>1197.00000</td>\n",
       "      <td>1.00000</td>\n",
       "      <td>0.00000</td>\n",
       "      <td>16.90000</td>\n",
       "      <td>74.00000</td>\n",
       "      <td>110.00000</td>\n",
       "      <td>0.00000</td>\n",
       "    </tr>\n",
       "    <tr>\n",
       "      <th>50%</th>\n",
       "      <td>884000.00000</td>\n",
       "      <td>1.00000</td>\n",
       "      <td>56072.00000</td>\n",
       "      <td>1248.00000</td>\n",
       "      <td>1.00000</td>\n",
       "      <td>3.00000</td>\n",
       "      <td>19.60000</td>\n",
       "      <td>88.00000</td>\n",
       "      <td>154.00000</td>\n",
       "      <td>0.00000</td>\n",
       "    </tr>\n",
       "    <tr>\n",
       "      <th>75%</th>\n",
       "      <td>4250000.00000</td>\n",
       "      <td>2.00000</td>\n",
       "      <td>76988.50000</td>\n",
       "      <td>1591.00000</td>\n",
       "      <td>1.00000</td>\n",
       "      <td>4.00000</td>\n",
       "      <td>22.00000</td>\n",
       "      <td>117.00000</td>\n",
       "      <td>219.00000</td>\n",
       "      <td>4.00000</td>\n",
       "    </tr>\n",
       "    <tr>\n",
       "      <th>max</th>\n",
       "      <td>88150000.00000</td>\n",
       "      <td>5.00000</td>\n",
       "      <td>750000.00000</td>\n",
       "      <td>5935.00000</td>\n",
       "      <td>4.00000</td>\n",
       "      <td>7.00000</td>\n",
       "      <td>2393.00000</td>\n",
       "      <td>552.00000</td>\n",
       "      <td>850.00000</td>\n",
       "      <td>10.00000</td>\n",
       "    </tr>\n",
       "  </tbody>\n",
       "</table>\n",
       "</div>"
      ],
      "text/plain": [
       "               Price       Fuel   KMs Driven  Engine Displacement  \\\n",
       "count     6994.00000 6994.00000   6994.00000           6994.00000   \n",
       "mean   3152068.49552    1.47212  58970.45356           1480.27817   \n",
       "std    5272558.90385    0.55281  38990.16423            534.03390   \n",
       "min      10000.00000    0.00000    472.00000              5.00000   \n",
       "25%     430000.00000    1.00000  34000.00000           1197.00000   \n",
       "50%     884000.00000    1.00000  56072.00000           1248.00000   \n",
       "75%    4250000.00000    2.00000  76988.50000           1591.00000   \n",
       "max   88150000.00000    5.00000 750000.00000           5935.00000   \n",
       "\n",
       "       No Of Owners  Insurance Type    Mileage  Max Power     Torque  \\\n",
       "count    6994.00000      6994.00000 6994.00000 6994.00000 6994.00000   \n",
       "mean        1.22848         2.31327   19.63011  102.38699  183.90980   \n",
       "std         0.51280         1.78409   28.71714   46.30202  116.03524   \n",
       "min         0.00000         0.00000    0.00000    5.00000    4.80000   \n",
       "25%         1.00000         0.00000   16.90000   74.00000  110.00000   \n",
       "50%         1.00000         3.00000   19.60000   88.00000  154.00000   \n",
       "75%         1.00000         4.00000   22.00000  117.00000  219.00000   \n",
       "max         4.00000         7.00000 2393.00000  552.00000  850.00000   \n",
       "\n",
       "       Price_bin  \n",
       "count 6994.00000  \n",
       "mean     2.19831  \n",
       "std      3.06747  \n",
       "min      0.00000  \n",
       "25%      0.00000  \n",
       "50%      0.00000  \n",
       "75%      4.00000  \n",
       "max     10.00000  "
      ]
     },
     "execution_count": 51,
     "metadata": {},
     "output_type": "execute_result"
    }
   ],
   "source": [
    "df.describe()"
   ]
  },
  {
   "cell_type": "code",
   "execution_count": 52,
   "metadata": {},
   "outputs": [
    {
     "data": {
      "image/png": "[encoded data removed]",
      "text/plain": [
       "<Figure size 432x288 with 1 Axes>"
      ]
     },
     "metadata": {
      "needs_background": "light"
     },
     "output_type": "display_data"
    }
   ],
   "source": [
    "# Let's see how price varies with  Fuel Type\n",
    "df_fuel_avg_price = df[['Fuel','Price']].groupby(\"Fuel\", as_index = False).mean()\n",
    "plt1 = df_fuel_avg_price.plot(x = 'Fuel', kind='bar',legend = False, sort_columns = True)\n",
    "plt1.set_xlabel(\"Fuel Type\")\n",
    "plt1.set_ylabel(\"Avg Price (Rupees)\")\n",
    "plt.show()"
   ]
  },
  {
   "cell_type": "markdown",
   "metadata": {},
   "source": [
    "Encoding Name column"
   ]
  },
  {
   "cell_type": "code",
   "execution_count": 56,
   "metadata": {},
   "outputs": [],
   "source": [
    "from sklearn import preprocessing\n",
    "labelencoder=preprocessing.LabelEncoder()\n",
    "for column in df.columns:\n",
    "    df['Name'] = labelencoder.fit_transform(df[\"Name\"])"
   ]
  },
  {
   "cell_type": "code",
   "execution_count": 57,
   "metadata": {},
   "outputs": [],
   "source": [
    "from sklearn import preprocessing\n",
    "le = preprocessing.LabelEncoder()\n",
    "df = df.apply(lambda col: le.fit_transform(col.astype(str)), axis=0, result_type='expand')"
   ]
  },
  {
   "cell_type": "code",
   "execution_count": 58,
   "metadata": {},
   "outputs": [],
   "source": [
    "from sklearn import preprocessing\n",
    "le = preprocessing.LabelEncoder()\n",
    "for column_name in df.columns:\n",
    "        if df[column_name].dtype == object:\n",
    "            df[column_name] = le.fit_transform(df[column_name])\n",
    "        else:\n",
    "            pass"
   ]
  },
  {
   "cell_type": "markdown",
   "metadata": {},
   "source": [
    "### Model creation"
   ]
  },
  {
   "cell_type": "code",
   "execution_count": 59,
   "metadata": {},
   "outputs": [],
   "source": [
    "X=df.drop(['Price'], axis=1)\n",
    "y=df['Price']"
   ]
  },
  {
   "cell_type": "code",
   "execution_count": 60,
   "metadata": {},
   "outputs": [],
   "source": [
    "from sklearn.model_selection import train_test_split\n",
    "X_train, X_test, y_train, y_test = train_test_split(X, y, test_size = 0.2, random_state = 42)"
   ]
  },
  {
   "cell_type": "code",
   "execution_count": 61,
   "metadata": {},
   "outputs": [],
   "source": [
    "# Importing RFE and LinearRegression\n",
    "from sklearn.feature_selection import RFE\n",
    "from sklearn.linear_model import LinearRegression"
   ]
  },
  {
   "cell_type": "code",
   "execution_count": 62,
   "metadata": {},
   "outputs": [
    {
     "name": "stdout",
     "output_type": "stream",
     "text": [
      "The accuracy of the Logistic Regression is 0.07505360972122944\n"
     ]
    }
   ],
   "source": [
    "from sklearn import metrics \n",
    "from sklearn.linear_model import LogisticRegression\n",
    "model_log = LogisticRegression(solver='liblinear')\n",
    "model_log.fit(X_train, y_train)\n",
    "prediction_log = model_log.predict(X_test)\n",
    "print('The accuracy of the Logistic Regression is',metrics.accuracy_score(prediction_log, y_test))"
   ]
  },
  {
   "cell_type": "code",
   "execution_count": 63,
   "metadata": {},
   "outputs": [],
   "source": [
    "# Running RFE with the output number of the variable equal to 10\n",
    "lm = LinearRegression()\n",
    "lm.fit(X_train, y_train)\n",
    "\n",
    "rfe = RFE(lm, 10)             # running RFE\n",
    "rfe = rfe.fit(X_train, y_train)"
   ]
  },
  {
   "cell_type": "code",
   "execution_count": 64,
   "metadata": {},
   "outputs": [
    {
     "name": "stdout",
     "output_type": "stream",
     "text": [
      "Coefficients:  [-5.99508940e-02  3.73937687e+01  1.66385435e+01 -7.78074940e-03\n",
      " -2.41726879e-01 -1.78161572e+01 -3.40111631e-02  1.66233813e+00\n",
      " -1.45055438e+00  5.11687400e-01  1.41961122e-01 -1.93488510e+00\n",
      "  4.51138407e+01  3.41157224e-01]\n",
      "Variance score: 0.2751881843667713\n"
     ]
    },
    {
     "data": {
      "image/png": "[encoded data removed]",
      "text/plain": [
       "<Figure size 432x288 with 1 Axes>"
      ]
     },
     "metadata": {},
     "output_type": "display_data"
    }
   ],
   "source": [
    "# regression coefficients\n",
    "print('Coefficients: ', lm.coef_)\n",
    " \n",
    "# variance score: 1 means perfect prediction\n",
    "print('Variance score: {}'.format(lm.score(X_test, y_test)))\n",
    " \n",
    "# plot for residual error\n",
    " \n",
    "## setting plot style\n",
    "plt.style.use('fivethirtyeight')\n",
    " \n",
    "## plotting residual errors in training data\n",
    "plt.scatter(lm.predict(X_train), lm.predict(X_train) - y_train,\n",
    "            color = \"green\", s = 10, label = 'Train data')\n",
    " \n",
    "## plotting residual errors in test data\n",
    "plt.scatter(lm.predict(X_test), lm.predict(X_test) - y_test,\n",
    "            color = \"blue\", s = 10, label = 'Test data')\n",
    " \n",
    "## plotting line for zero residual error\n",
    "plt.hlines(y = 0, xmin = 0, xmax = 50, linewidth = 2)\n",
    " \n",
    "## plotting legend\n",
    "plt.legend(loc = 'upper right')\n",
    " \n",
    "## plot title\n",
    "plt.title(\"Residual errors\")\n",
    " \n",
    "## method call for showing the plot\n",
    "plt.show()"
   ]
  },
  {
   "cell_type": "code",
   "execution_count": 65,
   "metadata": {},
   "outputs": [
    {
     "data": {
      "text/plain": [
       "LinearRegression()"
      ]
     },
     "execution_count": 65,
     "metadata": {},
     "output_type": "execute_result"
    }
   ],
   "source": [
    "regressor = LinearRegression()  \n",
    "regressor.fit(X_train, y_train)"
   ]
  },
  {
   "cell_type": "code",
   "execution_count": 66,
   "metadata": {},
   "outputs": [
    {
     "name": "stdout",
     "output_type": "stream",
     "text": [
      "160.20766244703452\n",
      "[-5.99508940e-02  3.73937687e+01  1.66385435e+01 -7.78074940e-03\n",
      " -2.41726879e-01 -1.78161572e+01 -3.40111631e-02  1.66233813e+00\n",
      " -1.45055438e+00  5.11687400e-01  1.41961122e-01 -1.93488510e+00\n",
      "  4.51138407e+01  3.41157224e-01]\n"
     ]
    }
   ],
   "source": [
    "#To retrieve the intercept:\n",
    "print(regressor.intercept_)\n",
    "\n",
    "#For retrieving the slope:\n",
    "print(regressor.coef_)"
   ]
  },
  {
   "cell_type": "code",
   "execution_count": 67,
   "metadata": {},
   "outputs": [],
   "source": [
    "y_pred = regressor.predict(X_test)"
   ]
  },
  {
   "cell_type": "markdown",
   "metadata": {},
   "source": [
    "### Random forest"
   ]
  },
  {
   "cell_type": "code",
   "execution_count": 69,
   "metadata": {},
   "outputs": [],
   "source": [
    "from sklearn.ensemble import RandomForestClassifier"
   ]
  },
  {
   "cell_type": "code",
   "execution_count": 70,
   "metadata": {},
   "outputs": [],
   "source": [
    "classifier_rf = RandomForestClassifier(random_state=42, n_jobs=-1, max_depth=5,\n",
    "                                       n_estimators=100, oob_score=True)"
   ]
  },
  {
   "cell_type": "code",
   "execution_count": 71,
   "metadata": {},
   "outputs": [
    {
     "name": "stdout",
     "output_type": "stream",
     "text": [
      "Wall time: 7.9 s\n"
     ]
    },
    {
     "data": {
      "text/plain": [
       "RandomForestClassifier(max_depth=5, n_jobs=-1, oob_score=True, random_state=42)"
      ]
     },
     "execution_count": 71,
     "metadata": {},
     "output_type": "execute_result"
    }
   ],
   "source": [
    "%%time\n",
    "classifier_rf.fit(X_train, y_train)"
   ]
  },
  {
   "cell_type": "code",
   "execution_count": 72,
   "metadata": {},
   "outputs": [
    {
     "data": {
      "text/plain": [
       "0.08954423592493298"
      ]
     },
     "execution_count": 72,
     "metadata": {},
     "output_type": "execute_result"
    }
   ],
   "source": [
    "# checking the oob score\n",
    "classifier_rf.oob_score_"
   ]
  },
  {
   "cell_type": "markdown",
   "metadata": {},
   "source": [
    "### Hyper Parameter Tuning"
   ]
  },
  {
   "cell_type": "code",
   "execution_count": 73,
   "metadata": {},
   "outputs": [],
   "source": [
    "# Let’s do hyperparameter tuning for Random Forest using GridSearchCV and fit the data.\n",
    "\n",
    "rf = RandomForestClassifier(random_state=42, n_jobs=-1)"
   ]
  },
  {
   "cell_type": "code",
   "execution_count": 74,
   "metadata": {},
   "outputs": [],
   "source": [
    "params = {\n",
    "    'max_depth': [2,3,5,10,20],\n",
    "    'min_samples_leaf': [5,10,20,50,100,200],\n",
    "    'n_estimators': [10,25,30,50,100,200]\n",
    "}"
   ]
  },
  {
   "cell_type": "code",
   "execution_count": 75,
   "metadata": {},
   "outputs": [],
   "source": [
    "from sklearn.model_selection import GridSearchCV"
   ]
  },
  {
   "cell_type": "code",
   "execution_count": 76,
   "metadata": {},
   "outputs": [],
   "source": [
    "# Instantiate the grid search model\n",
    "grid_search = GridSearchCV(estimator=rf,\n",
    "                           param_grid=params,\n",
    "                           cv = 4,\n",
    "                           n_jobs=-1, verbose=1, scoring=\"accuracy\")"
   ]
  },
  {
   "cell_type": "code",
   "execution_count": 77,
   "metadata": {},
   "outputs": [
    {
     "name": "stdout",
     "output_type": "stream",
     "text": [
      "Fitting 4 folds for each of 180 candidates, totalling 720 fits\n"
     ]
    },
    {
     "name": "stderr",
     "output_type": "stream",
     "text": [
      "[Parallel(n_jobs=-1)]: Using backend LokyBackend with 2 concurrent workers.\n",
      "[Parallel(n_jobs=-1)]: Done  46 tasks      | elapsed:  1.3min\n",
      "[Parallel(n_jobs=-1)]: Done 196 tasks      | elapsed:  4.9min\n",
      "[Parallel(n_jobs=-1)]: Done 446 tasks      | elapsed: 11.5min\n",
      "[Parallel(n_jobs=-1)]: Done 720 out of 720 | elapsed: 25.7min finished\n"
     ]
    },
    {
     "name": "stdout",
     "output_type": "stream",
     "text": [
      "Wall time: 25min 58s\n"
     ]
    },
    {
     "data": {
      "text/plain": [
       "GridSearchCV(cv=4, estimator=RandomForestClassifier(n_jobs=-1, random_state=42),\n",
       "             n_jobs=-1,\n",
       "             param_grid={'max_depth': [2, 3, 5, 10, 20],\n",
       "                         'min_samples_leaf': [5, 10, 20, 50, 100, 200],\n",
       "                         'n_estimators': [10, 25, 30, 50, 100, 200]},\n",
       "             scoring='accuracy', verbose=1)"
      ]
     },
     "execution_count": 77,
     "metadata": {},
     "output_type": "execute_result"
    }
   ],
   "source": [
    "%%time\n",
    "grid_search.fit(X_train, y_train)"
   ]
  },
  {
   "cell_type": "code",
   "execution_count": 78,
   "metadata": {},
   "outputs": [
    {
     "data": {
      "text/plain": [
       "0.2865039508089265"
      ]
     },
     "execution_count": 78,
     "metadata": {},
     "output_type": "execute_result"
    }
   ],
   "source": [
    "grid_search.best_score_"
   ]
  },
  {
   "cell_type": "code",
   "execution_count": 79,
   "metadata": {},
   "outputs": [
    {
     "data": {
      "text/plain": [
       "RandomForestClassifier(max_depth=20, min_samples_leaf=5, n_jobs=-1,\n",
       "                       random_state=42)"
      ]
     },
     "execution_count": 79,
     "metadata": {},
     "output_type": "execute_result"
    }
   ],
   "source": [
    "rf_best = grid_search.best_estimator_\n",
    "rf_best"
   ]
  },
  {
   "cell_type": "code",
   "execution_count": 80,
   "metadata": {},
   "outputs": [],
   "source": [
    "prediction = classifier_rf.predict(X_test)"
   ]
  },
  {
   "cell_type": "code",
   "execution_count": 81,
   "metadata": {},
   "outputs": [
    {
     "name": "stdout",
     "output_type": "stream",
     "text": [
      "MAE: 204.64403145103645\n",
      "MSE: 110955.76626161544\n",
      "RMSE: 333.1002345565302\n"
     ]
    }
   ],
   "source": [
    "print('MAE:', metrics.mean_absolute_error(y_test, prediction))\n",
    "print('MSE:', metrics.mean_squared_error(y_test, prediction))\n",
    "print('RMSE:', np.sqrt(metrics.mean_squared_error(y_test, prediction)))"
   ]
  },
  {
   "cell_type": "code",
   "execution_count": 82,
   "metadata": {},
   "outputs": [
    {
     "data": {
      "image/png": "[encoded data removed]",
      "text/plain": [
       "<Figure size 576x576 with 1 Axes>"
      ]
     },
     "metadata": {},
     "output_type": "display_data"
    }
   ],
   "source": [
    "plt.figure(figsize = (8,8))\n",
    "sns.distplot(y_test-prediction)\n",
    "plt.show()"
   ]
  },
  {
   "cell_type": "markdown",
   "metadata": {},
   "source": [
    "### Predictions"
   ]
  },
  {
   "cell_type": "code",
   "execution_count": 68,
   "metadata": {},
   "outputs": [
    {
     "data": {
      "text/html": [
       "<div>\n",
       "<style scoped>\n",
       "    .dataframe tbody tr th:only-of-type {\n",
       "        vertical-align: middle;\n",
       "    }\n",
       "\n",
       "    .dataframe tbody tr th {\n",
       "        vertical-align: top;\n",
       "    }\n",
       "\n",
       "    .dataframe thead th {\n",
       "        text-align: right;\n",
       "    }\n",
       "</style>\n",
       "<table border=\"1\" class=\"dataframe\">\n",
       "  <thead>\n",
       "    <tr style=\"text-align: right;\">\n",
       "      <th></th>\n",
       "      <th>Actual</th>\n",
       "      <th>Predicted</th>\n",
       "    </tr>\n",
       "  </thead>\n",
       "  <tbody>\n",
       "    <tr>\n",
       "      <th>5121</th>\n",
       "      <td>654</td>\n",
       "      <td>988.87834</td>\n",
       "    </tr>\n",
       "    <tr>\n",
       "      <th>4105</th>\n",
       "      <td>1589</td>\n",
       "      <td>708.91983</td>\n",
       "    </tr>\n",
       "    <tr>\n",
       "      <th>4352</th>\n",
       "      <td>1438</td>\n",
       "      <td>839.93956</td>\n",
       "    </tr>\n",
       "    <tr>\n",
       "      <th>263</th>\n",
       "      <td>1069</td>\n",
       "      <td>968.50888</td>\n",
       "    </tr>\n",
       "    <tr>\n",
       "      <th>5408</th>\n",
       "      <td>1493</td>\n",
       "      <td>939.48378</td>\n",
       "    </tr>\n",
       "    <tr>\n",
       "      <th>...</th>\n",
       "      <td>...</td>\n",
       "      <td>...</td>\n",
       "    </tr>\n",
       "    <tr>\n",
       "      <th>1733</th>\n",
       "      <td>1349</td>\n",
       "      <td>1207.41112</td>\n",
       "    </tr>\n",
       "    <tr>\n",
       "      <th>5828</th>\n",
       "      <td>1018</td>\n",
       "      <td>1156.09500</td>\n",
       "    </tr>\n",
       "    <tr>\n",
       "      <th>1860</th>\n",
       "      <td>1560</td>\n",
       "      <td>923.62448</td>\n",
       "    </tr>\n",
       "    <tr>\n",
       "      <th>3897</th>\n",
       "      <td>1376</td>\n",
       "      <td>924.82010</td>\n",
       "    </tr>\n",
       "    <tr>\n",
       "      <th>387</th>\n",
       "      <td>332</td>\n",
       "      <td>874.37650</td>\n",
       "    </tr>\n",
       "  </tbody>\n",
       "</table>\n",
       "<p>1399 rows × 2 columns</p>\n",
       "</div>"
      ],
      "text/plain": [
       "      Actual  Predicted\n",
       "5121     654  988.87834\n",
       "4105    1589  708.91983\n",
       "4352    1438  839.93956\n",
       "263     1069  968.50888\n",
       "5408    1493  939.48378\n",
       "...      ...        ...\n",
       "1733    1349 1207.41112\n",
       "5828    1018 1156.09500\n",
       "1860    1560  923.62448\n",
       "3897    1376  924.82010\n",
       "387      332  874.37650\n",
       "\n",
       "[1399 rows x 2 columns]"
      ]
     },
     "execution_count": 68,
     "metadata": {},
     "output_type": "execute_result"
    }
   ],
   "source": [
    "df = pd.DataFrame({'Actual': y_test, 'Predicted': y_pred})\n",
    "df"
   ]
  },
  {
   "cell_type": "markdown",
   "metadata": {},
   "source": [
    "### Saving the model"
   ]
  },
  {
   "cell_type": "code",
   "execution_count": 83,
   "metadata": {},
   "outputs": [],
   "source": [
    "import joblib"
   ]
  },
  {
   "cell_type": "code",
   "execution_count": 84,
   "metadata": {},
   "outputs": [
    {
     "data": {
      "text/plain": [
       "['car_price_prediction_project.pkl']"
      ]
     },
     "execution_count": 84,
     "metadata": {},
     "output_type": "execute_result"
    }
   ],
   "source": [
    "joblib.dump(classifier_rf, 'car_price_prediction_project.pkl')"
   ]
  },
  {
   "cell_type": "code",
   "execution_count": 85,
   "metadata": {},
   "outputs": [],
   "source": [
    "# Load the model from the file\n",
    "classifier_rf_from_joblib = joblib.load('car_price_prediction_project.pkl') "
   ]
  },
  {
   "cell_type": "code",
   "execution_count": 86,
   "metadata": {},
   "outputs": [
    {
     "data": {
      "text/plain": [
       "array([ 514, 1300,  830, ..., 1300, 1084,  374])"
      ]
     },
     "execution_count": 86,
     "metadata": {},
     "output_type": "execute_result"
    }
   ],
   "source": [
    "# Use the loaded model to make predictions\n",
    "classifier_rf_from_joblib.predict(X_test)"
   ]
  },
  {
   "cell_type": "code",
   "execution_count": null,
   "metadata": {},
   "outputs": [],
   "source": []
  }
 ],
 "metadata": {
  "kernelspec": {
   "display_name": "Python 3",
   "language": "python",
   "name": "python3"
  },
  "language_info": {
   "codemirror_mode": {
    "name": "ipython",
    "version": 3
   },
   "file_extension": ".py",
   "mimetype": "text/x-python",
   "name": "python",
   "nbconvert_exporter": "python",
   "pygments_lexer": "ipython3",
   "version": "3.8.5"
  }
 },
 "nbformat": 4,
 "nbformat_minor": 4
}
